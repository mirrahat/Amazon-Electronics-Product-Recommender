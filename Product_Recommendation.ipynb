{
  "cells": [
    {
      "cell_type": "markdown",
      "source": [
        "\n",
        "# **Product Recomendation System**\n",
        "\n",
        "<span style=\"font-size: 16px;\">\n",
        "This project includes:\n",
        "\n",
        "- Data Loading & Preprocessing  \n",
        "- Exploratory Data Analysis (EDA)  \n",
        "- Collaborative Filtering with Surprise Library  \n",
        "- Matrix Factorization using SVD  \n",
        "- Recommendation Generation for Users  \n",
        "- Evaluation using RMSE and Precision@k  \n",
        "</span>\n",
        "\n",
        "\n"
      ],
      "metadata": {
        "id": "cpe-o09_tevn"
      },
      "id": "cpe-o09_tevn"
    },
    {
      "cell_type": "code",
      "execution_count": 3,
      "id": "70fffef6",
      "metadata": {
        "colab": {
          "base_uri": "https://localhost:8080/"
        },
        "id": "70fffef6",
        "outputId": "77cff9e7-3601-4749-d667-76382eb343be"
      },
      "outputs": [
        {
          "output_type": "stream",
          "name": "stdout",
          "text": [
            "Collecting scikit-surprise\n",
            "  Downloading scikit_surprise-1.1.4.tar.gz (154 kB)\n",
            "\u001b[2K     \u001b[90m━━━━━━━━━━━━━━━━━━━━━━━━━━━━━━━━━━━━━━━━\u001b[0m \u001b[32m154.4/154.4 kB\u001b[0m \u001b[31m2.9 MB/s\u001b[0m eta \u001b[36m0:00:00\u001b[0m\n",
            "\u001b[?25h  Installing build dependencies ... \u001b[?25l\u001b[?25hdone\n",
            "  Getting requirements to build wheel ... \u001b[?25l\u001b[?25hdone\n",
            "  Preparing metadata (pyproject.toml) ... \u001b[?25l\u001b[?25hdone\n",
            "Requirement already satisfied: joblib>=1.2.0 in /usr/local/lib/python3.11/dist-packages (from scikit-surprise) (1.4.2)\n",
            "Requirement already satisfied: numpy>=1.19.5 in /usr/local/lib/python3.11/dist-packages (from scikit-surprise) (2.0.2)\n",
            "Requirement already satisfied: scipy>=1.6.0 in /usr/local/lib/python3.11/dist-packages (from scikit-surprise) (1.14.1)\n",
            "Building wheels for collected packages: scikit-surprise\n",
            "  Building wheel for scikit-surprise (pyproject.toml) ... \u001b[?25l\u001b[?25hdone\n",
            "  Created wheel for scikit-surprise: filename=scikit_surprise-1.1.4-cp311-cp311-linux_x86_64.whl size=2505217 sha256=393d1c5d42fe93e482dae092b3aee54a53eb4dd4b9a24399935d51ab3d40ffff\n",
            "  Stored in directory: /root/.cache/pip/wheels/2a/8f/6e/7e2899163e2d85d8266daab4aa1cdabec7a6c56f83c015b5af\n",
            "Successfully built scikit-surprise\n",
            "Installing collected packages: scikit-surprise\n",
            "Successfully installed scikit-surprise-1.1.4\n"
          ]
        }
      ],
      "source": [
        "\n",
        "!pip install scikit-surprise"
      ]
    },
    {
      "cell_type": "code",
      "source": [
        "from google.colab import drive\n",
        "drive.mount('/content/drive')\n"
      ],
      "metadata": {
        "colab": {
          "base_uri": "https://localhost:8080/"
        },
        "id": "QjPXB58rG93j",
        "outputId": "e15a598a-1c6c-4f76-9bb7-56e1e4832d7f"
      },
      "id": "QjPXB58rG93j",
      "execution_count": null,
      "outputs": [
        {
          "output_type": "stream",
          "name": "stdout",
          "text": [
            "Mounted at /content/drive\n"
          ]
        }
      ]
    },
    {
      "cell_type": "markdown",
      "source": [
        "##Environment Setup & Imports"
      ],
      "metadata": {
        "id": "voWSXovWuEpU"
      },
      "id": "voWSXovWuEpU"
    },
    {
      "cell_type": "code",
      "source": [
        "import os\n",
        "import pandas as pd\n",
        "from surprise import Dataset, Reader, SVD\n",
        "from surprise.model_selection import train_test_split\n",
        "from surprise import accuracy\n",
        "os.chdir(\"/content/drive/MyDrive/ProductRecomendation\")"
      ],
      "metadata": {
        "id": "BnlrZ6JZKV6C"
      },
      "id": "BnlrZ6JZKV6C",
      "execution_count": 2,
      "outputs": []
    },
    {
      "cell_type": "code",
      "source": [
        "!ls"
      ],
      "metadata": {
        "colab": {
          "base_uri": "https://localhost:8080/"
        },
        "id": "h2TumfBmoZHk",
        "outputId": "f9b80ff9-efe1-4333-a9b1-a5bb09195e59"
      },
      "id": "h2TumfBmoZHk",
      "execution_count": 5,
      "outputs": [
        {
          "output_type": "stream",
          "name": "stdout",
          "text": [
            "Product_Recommendation_Clean.ipynb  README.md\n"
          ]
        }
      ]
    },
    {
      "cell_type": "code",
      "execution_count": 3,
      "id": "aab32711",
      "metadata": {
        "id": "aab32711"
      },
      "outputs": [],
      "source": [
        "\n",
        "file_path = '/content/drive/MyDrive/dataset/ratings_Electronics.csv'\n",
        "df = pd.read_csv(file_path, names=['user_id', 'product_id', 'rating', 'timestamp'])"
      ]
    },
    {
      "cell_type": "markdown",
      "source": [
        "## Data Cleaning: Drop Unnecessary & Invalid Rows"
      ],
      "metadata": {
        "id": "afrU4d2PuaHo"
      },
      "id": "afrU4d2PuaHo"
    },
    {
      "cell_type": "code",
      "execution_count": 4,
      "id": "40ccd868",
      "metadata": {
        "id": "40ccd868"
      },
      "outputs": [],
      "source": [
        "\n",
        "df.drop('timestamp', axis=1, inplace=True)\n",
        "df.drop_duplicates(subset=['user_id', 'product_id'], keep='last', inplace=True)\n",
        "df.dropna(inplace=True)"
      ]
    },
    {
      "cell_type": "code",
      "execution_count": 23,
      "id": "ac4971ff",
      "metadata": {
        "id": "ac4971ff",
        "colab": {
          "base_uri": "https://localhost:8080/",
          "height": 224
        },
        "outputId": "ba409b1e-cade-4789-8eaa-3563235669df"
      },
      "outputs": [
        {
          "output_type": "stream",
          "name": "stdout",
          "text": [
            "Data loaded and cleaned.\n"
          ]
        },
        {
          "output_type": "execute_result",
          "data": {
            "text/plain": [
              "          user_id  product_id  rating\n",
              "0   AKM1MP6P0OYPR  0132793040     5.0\n",
              "1  A2CX7LUOHB2NDG  0321732944     5.0\n",
              "2  A2NWSAGRHCP8N5  0439886341     1.0\n",
              "3  A2WNBOD3WNDNKT  0439886341     3.0\n",
              "4  A1GI0U4ZRJA8WN  0439886341     1.0"
            ],
            "text/html": [
              "\n",
              "  <div id=\"df-a88c96f0-1dbe-4d65-ad28-1bea52ace432\" class=\"colab-df-container\">\n",
              "    <div>\n",
              "<style scoped>\n",
              "    .dataframe tbody tr th:only-of-type {\n",
              "        vertical-align: middle;\n",
              "    }\n",
              "\n",
              "    .dataframe tbody tr th {\n",
              "        vertical-align: top;\n",
              "    }\n",
              "\n",
              "    .dataframe thead th {\n",
              "        text-align: right;\n",
              "    }\n",
              "</style>\n",
              "<table border=\"1\" class=\"dataframe\">\n",
              "  <thead>\n",
              "    <tr style=\"text-align: right;\">\n",
              "      <th></th>\n",
              "      <th>user_id</th>\n",
              "      <th>product_id</th>\n",
              "      <th>rating</th>\n",
              "    </tr>\n",
              "  </thead>\n",
              "  <tbody>\n",
              "    <tr>\n",
              "      <th>0</th>\n",
              "      <td>AKM1MP6P0OYPR</td>\n",
              "      <td>0132793040</td>\n",
              "      <td>5.0</td>\n",
              "    </tr>\n",
              "    <tr>\n",
              "      <th>1</th>\n",
              "      <td>A2CX7LUOHB2NDG</td>\n",
              "      <td>0321732944</td>\n",
              "      <td>5.0</td>\n",
              "    </tr>\n",
              "    <tr>\n",
              "      <th>2</th>\n",
              "      <td>A2NWSAGRHCP8N5</td>\n",
              "      <td>0439886341</td>\n",
              "      <td>1.0</td>\n",
              "    </tr>\n",
              "    <tr>\n",
              "      <th>3</th>\n",
              "      <td>A2WNBOD3WNDNKT</td>\n",
              "      <td>0439886341</td>\n",
              "      <td>3.0</td>\n",
              "    </tr>\n",
              "    <tr>\n",
              "      <th>4</th>\n",
              "      <td>A1GI0U4ZRJA8WN</td>\n",
              "      <td>0439886341</td>\n",
              "      <td>1.0</td>\n",
              "    </tr>\n",
              "  </tbody>\n",
              "</table>\n",
              "</div>\n",
              "    <div class=\"colab-df-buttons\">\n",
              "\n",
              "  <div class=\"colab-df-container\">\n",
              "    <button class=\"colab-df-convert\" onclick=\"convertToInteractive('df-a88c96f0-1dbe-4d65-ad28-1bea52ace432')\"\n",
              "            title=\"Convert this dataframe to an interactive table.\"\n",
              "            style=\"display:none;\">\n",
              "\n",
              "  <svg xmlns=\"http://www.w3.org/2000/svg\" height=\"24px\" viewBox=\"0 -960 960 960\">\n",
              "    <path d=\"M120-120v-720h720v720H120Zm60-500h600v-160H180v160Zm220 220h160v-160H400v160Zm0 220h160v-160H400v160ZM180-400h160v-160H180v160Zm440 0h160v-160H620v160ZM180-180h160v-160H180v160Zm440 0h160v-160H620v160Z\"/>\n",
              "  </svg>\n",
              "    </button>\n",
              "\n",
              "  <style>\n",
              "    .colab-df-container {\n",
              "      display:flex;\n",
              "      gap: 12px;\n",
              "    }\n",
              "\n",
              "    .colab-df-convert {\n",
              "      background-color: #E8F0FE;\n",
              "      border: none;\n",
              "      border-radius: 50%;\n",
              "      cursor: pointer;\n",
              "      display: none;\n",
              "      fill: #1967D2;\n",
              "      height: 32px;\n",
              "      padding: 0 0 0 0;\n",
              "      width: 32px;\n",
              "    }\n",
              "\n",
              "    .colab-df-convert:hover {\n",
              "      background-color: #E2EBFA;\n",
              "      box-shadow: 0px 1px 2px rgba(60, 64, 67, 0.3), 0px 1px 3px 1px rgba(60, 64, 67, 0.15);\n",
              "      fill: #174EA6;\n",
              "    }\n",
              "\n",
              "    .colab-df-buttons div {\n",
              "      margin-bottom: 4px;\n",
              "    }\n",
              "\n",
              "    [theme=dark] .colab-df-convert {\n",
              "      background-color: #3B4455;\n",
              "      fill: #D2E3FC;\n",
              "    }\n",
              "\n",
              "    [theme=dark] .colab-df-convert:hover {\n",
              "      background-color: #434B5C;\n",
              "      box-shadow: 0px 1px 3px 1px rgba(0, 0, 0, 0.15);\n",
              "      filter: drop-shadow(0px 1px 2px rgba(0, 0, 0, 0.3));\n",
              "      fill: #FFFFFF;\n",
              "    }\n",
              "  </style>\n",
              "\n",
              "    <script>\n",
              "      const buttonEl =\n",
              "        document.querySelector('#df-a88c96f0-1dbe-4d65-ad28-1bea52ace432 button.colab-df-convert');\n",
              "      buttonEl.style.display =\n",
              "        google.colab.kernel.accessAllowed ? 'block' : 'none';\n",
              "\n",
              "      async function convertToInteractive(key) {\n",
              "        const element = document.querySelector('#df-a88c96f0-1dbe-4d65-ad28-1bea52ace432');\n",
              "        const dataTable =\n",
              "          await google.colab.kernel.invokeFunction('convertToInteractive',\n",
              "                                                    [key], {});\n",
              "        if (!dataTable) return;\n",
              "\n",
              "        const docLinkHtml = 'Like what you see? Visit the ' +\n",
              "          '<a target=\"_blank\" href=https://colab.research.google.com/notebooks/data_table.ipynb>data table notebook</a>'\n",
              "          + ' to learn more about interactive tables.';\n",
              "        element.innerHTML = '';\n",
              "        dataTable['output_type'] = 'display_data';\n",
              "        await google.colab.output.renderOutput(dataTable, element);\n",
              "        const docLink = document.createElement('div');\n",
              "        docLink.innerHTML = docLinkHtml;\n",
              "        element.appendChild(docLink);\n",
              "      }\n",
              "    </script>\n",
              "  </div>\n",
              "\n",
              "\n",
              "<div id=\"df-2925c0d5-e72e-4b14-9e4f-9da6951c23dc\">\n",
              "  <button class=\"colab-df-quickchart\" onclick=\"quickchart('df-2925c0d5-e72e-4b14-9e4f-9da6951c23dc')\"\n",
              "            title=\"Suggest charts\"\n",
              "            style=\"display:none;\">\n",
              "\n",
              "<svg xmlns=\"http://www.w3.org/2000/svg\" height=\"24px\"viewBox=\"0 0 24 24\"\n",
              "     width=\"24px\">\n",
              "    <g>\n",
              "        <path d=\"M19 3H5c-1.1 0-2 .9-2 2v14c0 1.1.9 2 2 2h14c1.1 0 2-.9 2-2V5c0-1.1-.9-2-2-2zM9 17H7v-7h2v7zm4 0h-2V7h2v10zm4 0h-2v-4h2v4z\"/>\n",
              "    </g>\n",
              "</svg>\n",
              "  </button>\n",
              "\n",
              "<style>\n",
              "  .colab-df-quickchart {\n",
              "      --bg-color: #E8F0FE;\n",
              "      --fill-color: #1967D2;\n",
              "      --hover-bg-color: #E2EBFA;\n",
              "      --hover-fill-color: #174EA6;\n",
              "      --disabled-fill-color: #AAA;\n",
              "      --disabled-bg-color: #DDD;\n",
              "  }\n",
              "\n",
              "  [theme=dark] .colab-df-quickchart {\n",
              "      --bg-color: #3B4455;\n",
              "      --fill-color: #D2E3FC;\n",
              "      --hover-bg-color: #434B5C;\n",
              "      --hover-fill-color: #FFFFFF;\n",
              "      --disabled-bg-color: #3B4455;\n",
              "      --disabled-fill-color: #666;\n",
              "  }\n",
              "\n",
              "  .colab-df-quickchart {\n",
              "    background-color: var(--bg-color);\n",
              "    border: none;\n",
              "    border-radius: 50%;\n",
              "    cursor: pointer;\n",
              "    display: none;\n",
              "    fill: var(--fill-color);\n",
              "    height: 32px;\n",
              "    padding: 0;\n",
              "    width: 32px;\n",
              "  }\n",
              "\n",
              "  .colab-df-quickchart:hover {\n",
              "    background-color: var(--hover-bg-color);\n",
              "    box-shadow: 0 1px 2px rgba(60, 64, 67, 0.3), 0 1px 3px 1px rgba(60, 64, 67, 0.15);\n",
              "    fill: var(--button-hover-fill-color);\n",
              "  }\n",
              "\n",
              "  .colab-df-quickchart-complete:disabled,\n",
              "  .colab-df-quickchart-complete:disabled:hover {\n",
              "    background-color: var(--disabled-bg-color);\n",
              "    fill: var(--disabled-fill-color);\n",
              "    box-shadow: none;\n",
              "  }\n",
              "\n",
              "  .colab-df-spinner {\n",
              "    border: 2px solid var(--fill-color);\n",
              "    border-color: transparent;\n",
              "    border-bottom-color: var(--fill-color);\n",
              "    animation:\n",
              "      spin 1s steps(1) infinite;\n",
              "  }\n",
              "\n",
              "  @keyframes spin {\n",
              "    0% {\n",
              "      border-color: transparent;\n",
              "      border-bottom-color: var(--fill-color);\n",
              "      border-left-color: var(--fill-color);\n",
              "    }\n",
              "    20% {\n",
              "      border-color: transparent;\n",
              "      border-left-color: var(--fill-color);\n",
              "      border-top-color: var(--fill-color);\n",
              "    }\n",
              "    30% {\n",
              "      border-color: transparent;\n",
              "      border-left-color: var(--fill-color);\n",
              "      border-top-color: var(--fill-color);\n",
              "      border-right-color: var(--fill-color);\n",
              "    }\n",
              "    40% {\n",
              "      border-color: transparent;\n",
              "      border-right-color: var(--fill-color);\n",
              "      border-top-color: var(--fill-color);\n",
              "    }\n",
              "    60% {\n",
              "      border-color: transparent;\n",
              "      border-right-color: var(--fill-color);\n",
              "    }\n",
              "    80% {\n",
              "      border-color: transparent;\n",
              "      border-right-color: var(--fill-color);\n",
              "      border-bottom-color: var(--fill-color);\n",
              "    }\n",
              "    90% {\n",
              "      border-color: transparent;\n",
              "      border-bottom-color: var(--fill-color);\n",
              "    }\n",
              "  }\n",
              "</style>\n",
              "\n",
              "  <script>\n",
              "    async function quickchart(key) {\n",
              "      const quickchartButtonEl =\n",
              "        document.querySelector('#' + key + ' button');\n",
              "      quickchartButtonEl.disabled = true;  // To prevent multiple clicks.\n",
              "      quickchartButtonEl.classList.add('colab-df-spinner');\n",
              "      try {\n",
              "        const charts = await google.colab.kernel.invokeFunction(\n",
              "            'suggestCharts', [key], {});\n",
              "      } catch (error) {\n",
              "        console.error('Error during call to suggestCharts:', error);\n",
              "      }\n",
              "      quickchartButtonEl.classList.remove('colab-df-spinner');\n",
              "      quickchartButtonEl.classList.add('colab-df-quickchart-complete');\n",
              "    }\n",
              "    (() => {\n",
              "      let quickchartButtonEl =\n",
              "        document.querySelector('#df-2925c0d5-e72e-4b14-9e4f-9da6951c23dc button');\n",
              "      quickchartButtonEl.style.display =\n",
              "        google.colab.kernel.accessAllowed ? 'block' : 'none';\n",
              "    })();\n",
              "  </script>\n",
              "</div>\n",
              "\n",
              "    </div>\n",
              "  </div>\n"
            ],
            "application/vnd.google.colaboratory.intrinsic+json": {
              "type": "dataframe",
              "variable_name": "df"
            }
          },
          "metadata": {},
          "execution_count": 23
        }
      ],
      "source": [
        "\n",
        "df.head()"
      ]
    },
    {
      "cell_type": "code",
      "source": [
        "import matplotlib.pyplot as plt\n",
        "import seaborn as sns\n",
        "\n",
        "# Number of unique users and products\n",
        "num_users = df['user_id'].nunique()\n",
        "num_products = df['product_id'].nunique()\n",
        "print(f\" Unique Users: {num_users}\")\n",
        "print(f\" Unique Products: {num_products}\")\n",
        "\n",
        "# Ratings distribution\n",
        "plt.figure(figsize=(6, 4))\n",
        "sns.countplot(x='rating', data=df, palette='viridis')\n",
        "plt.title(\" Rating Distribution\")\n",
        "plt.xlabel(\"Rating\")\n",
        "plt.ylabel(\"Count\")\n",
        "plt.show()\n",
        "\n",
        "# Top 10 most active users\n",
        "top_users = df['user_id'].value_counts().head(10)\n",
        "plt.figure(figsize=(8, 4))\n",
        "sns.barplot(x=top_users.index, y=top_users.values, palette='coolwarm')\n",
        "plt.title(\" Top 10 Most Active Users\")\n",
        "plt.xticks(rotation=45)\n",
        "plt.ylabel(\"Number of Ratings\")\n",
        "plt.show()\n",
        "\n",
        "# Top 10 most rated products\n",
        "top_products = df['product_id'].value_counts().head(10)\n",
        "plt.figure(figsize=(8, 4))\n",
        "sns.barplot(x=top_products.index, y=top_products.values, palette='magma')\n",
        "plt.title(\" Top 10 Most Rated Products\")\n",
        "plt.xticks(rotation=45)\n",
        "plt.ylabel(\"Number of Ratings\")\n",
        "plt.show()\n"
      ],
      "metadata": {
        "colab": {
          "base_uri": "https://localhost:8080/",
          "height": 1000
        },
        "id": "Rxbivds_vxb2",
        "outputId": "b20dd98c-26a2-4647-c42e-881d4d874cb3"
      },
      "id": "Rxbivds_vxb2",
      "execution_count": 26,
      "outputs": [
        {
          "output_type": "stream",
          "name": "stdout",
          "text": [
            " Unique Users: 4201696\n",
            " Unique Products: 476002\n"
          ]
        },
        {
          "output_type": "stream",
          "name": "stderr",
          "text": [
            "<ipython-input-26-948414771908>:12: FutureWarning: \n",
            "\n",
            "Passing `palette` without assigning `hue` is deprecated and will be removed in v0.14.0. Assign the `x` variable to `hue` and set `legend=False` for the same effect.\n",
            "\n",
            "  sns.countplot(x='rating', data=df, palette='viridis')\n"
          ]
        },
        {
          "output_type": "display_data",
          "data": {
            "text/plain": [
              "<Figure size 600x400 with 1 Axes>"
            ],
            "image/png": "[encoded data removed]"
          },
          "metadata": {}
        },
        {
          "output_type": "stream",
          "name": "stderr",
          "text": [
            "<ipython-input-26-948414771908>:21: FutureWarning: \n",
            "\n",
            "Passing `palette` without assigning `hue` is deprecated and will be removed in v0.14.0. Assign the `x` variable to `hue` and set `legend=False` for the same effect.\n",
            "\n",
            "  sns.barplot(x=top_users.index, y=top_users.values, palette='coolwarm')\n"
          ]
        },
        {
          "output_type": "display_data",
          "data": {
            "text/plain": [
              "<Figure size 800x400 with 1 Axes>"
            ],
            "image/png": "[encoded data removed]"
          },
          "metadata": {}
        },
        {
          "output_type": "stream",
          "name": "stderr",
          "text": [
            "<ipython-input-26-948414771908>:30: FutureWarning: \n",
            "\n",
            "Passing `palette` without assigning `hue` is deprecated and will be removed in v0.14.0. Assign the `x` variable to `hue` and set `legend=False` for the same effect.\n",
            "\n",
            "  sns.barplot(x=top_products.index, y=top_products.values, palette='magma')\n"
          ]
        },
        {
          "output_type": "display_data",
          "data": {
            "text/plain": [
              "<Figure size 800x400 with 1 Axes>"
            ],
            "image/png": "[encoded data removed]"
          },
          "metadata": {}
        }
      ]
    },
    {
      "cell_type": "markdown",
      "source": [
        "##Prepare Dataset for Surprise Library Using Reader"
      ],
      "metadata": {
        "id": "kq2rA_KMul90"
      },
      "id": "kq2rA_KMul90"
    },
    {
      "cell_type": "code",
      "execution_count": 24,
      "id": "78845429",
      "metadata": {
        "id": "78845429"
      },
      "outputs": [],
      "source": [
        "\n",
        "reader = Reader(rating_scale=(1, 5))\n",
        "data = Dataset.load_from_df(df[['user_id', 'product_id', 'rating']], reader)"
      ]
    },
    {
      "cell_type": "markdown",
      "source": [
        "##Train-Test Split for Model Evaluation"
      ],
      "metadata": {
        "id": "LgDawC_Lu0hO"
      },
      "id": "LgDawC_Lu0hO"
    },
    {
      "cell_type": "code",
      "execution_count": 7,
      "id": "e52c4694",
      "metadata": {
        "id": "e52c4694"
      },
      "outputs": [],
      "source": [
        "\n",
        "trainset, testset = train_test_split(data, test_size=0.2, random_state=42)"
      ]
    },
    {
      "cell_type": "markdown",
      "source": [
        "##Train SVD Recommendation Model on Training Data"
      ],
      "metadata": {
        "id": "bgDAUY7du6Rm"
      },
      "id": "bgDAUY7du6Rm"
    },
    {
      "cell_type": "code",
      "execution_count": 8,
      "id": "0ef06bf6",
      "metadata": {
        "id": "0ef06bf6",
        "colab": {
          "base_uri": "https://localhost:8080/"
        },
        "outputId": "c1d72f57-02c4-4a56-fb7e-b291744d3613"
      },
      "outputs": [
        {
          "output_type": "execute_result",
          "data": {
            "text/plain": [
              "<surprise.prediction_algorithms.matrix_factorization.SVD at 0x7c7e5902b850>"
            ]
          },
          "metadata": {},
          "execution_count": 8
        }
      ],
      "source": [
        "model = SVD()\n",
        "model.fit(trainset)"
      ]
    },
    {
      "cell_type": "markdown",
      "source": [
        "##Evaluate SVD Model Performance Using RMSE"
      ],
      "metadata": {
        "id": "MAkUKHeYvBYv"
      },
      "id": "MAkUKHeYvBYv"
    },
    {
      "cell_type": "code",
      "execution_count": 9,
      "id": "d2b60661",
      "metadata": {
        "id": "d2b60661",
        "colab": {
          "base_uri": "https://localhost:8080/"
        },
        "outputId": "8583ff62-8103-4077-bf56-ddaaf58d0af0"
      },
      "outputs": [
        {
          "output_type": "stream",
          "name": "stdout",
          "text": [
            "RMSE: 1.2956\n"
          ]
        },
        {
          "output_type": "execute_result",
          "data": {
            "text/plain": [
              "1.295553832262157"
            ]
          },
          "metadata": {},
          "execution_count": 9
        }
      ],
      "source": [
        "\n",
        "predictions = model.test(testset)\n",
        "accuracy.rmse(predictions)"
      ]
    },
    {
      "cell_type": "markdown",
      "source": [
        "##Function to Recommend Top-N Products for a User\n",
        "\n",
        "\n",
        "\n"
      ],
      "metadata": {
        "id": "FWbS252Brl3w"
      },
      "id": "FWbS252Brl3w"
    },
    {
      "cell_type": "code",
      "execution_count": 10,
      "id": "e8f2da26",
      "metadata": {
        "id": "e8f2da26"
      },
      "outputs": [],
      "source": [
        "def recommend_products(user_id, model, df, n=5):\n",
        "    all_products = df['product_id'].unique()\n",
        "    rated_products = df[df['user_id'] == user_id]['product_id'].tolist()\n",
        "    products_to_predict = [pid for pid in all_products if pid not in rated_products]\n",
        "\n",
        "    predictions = [model.predict(user_id, pid) for pid in products_to_predict]\n",
        "    top_predictions = sorted(predictions, key=lambda x: x.est, reverse=True)[:n]\n",
        "\n",
        "    return [(pred.iid, round(pred.est, 2)) for pred in top_predictions]\n"
      ]
    },
    {
      "cell_type": "markdown",
      "source": [
        "##View Recommendations for a Sample User"
      ],
      "metadata": {
        "id": "1dWJ8Y3XrzrH"
      },
      "id": "1dWJ8Y3XrzrH"
    },
    {
      "cell_type": "code",
      "execution_count": 11,
      "id": "1316f1a8",
      "metadata": {
        "id": "1316f1a8",
        "colab": {
          "base_uri": "https://localhost:8080/"
        },
        "outputId": "d9fe1c2f-dccd-43af-c40a-f49ef7d2076b"
      },
      "outputs": [
        {
          "output_type": "stream",
          "name": "stdout",
          "text": [
            "Recommendations for existing user: {sample_user}\n",
            "Product: B00000JBHE, Predicted Rating: 5\n",
            "Product: B000067SMH, Predicted Rating: 5\n",
            "Product: B0000W64XK, Predicted Rating: 5\n",
            "Product: B00066U1AW, Predicted Rating: 5\n",
            "Product: B000BY52NK, Predicted Rating: 5\n"
          ]
        }
      ],
      "source": [
        "\n",
        "sample_user = df['user_id'].iloc[24]\n",
        "print(\"Recommendations for existing user: {sample_user}\")\n",
        "recommendations = recommend_products(sample_user, model, df)\n",
        "for pid, rating in recommendations:\n",
        "    print(f\"Product: {pid}, Predicted Rating: {rating}\")"
      ]
    },
    {
      "cell_type": "markdown",
      "source": [
        "##Fallback for New Users"
      ],
      "metadata": {
        "id": "5cXDYPfjr72O"
      },
      "id": "5cXDYPfjr72O"
    },
    {
      "cell_type": "code",
      "execution_count": 12,
      "id": "180f222b",
      "metadata": {
        "id": "180f222b"
      },
      "outputs": [],
      "source": [
        "\n",
        "def recommend_popular_products(df, n=5):\n",
        "    top_products = (\n",
        "        df.groupby('product_id')['rating']\n",
        "        .count()\n",
        "        .sort_values(ascending=False)\n",
        "        .head(n)\n",
        "    )\n",
        "    return list(top_products.index)"
      ]
    },
    {
      "cell_type": "markdown",
      "source": [
        "##Popular Recommendations for Cold-Start Users"
      ],
      "metadata": {
        "id": "sQLzmDdDsCyI"
      },
      "id": "sQLzmDdDsCyI"
    },
    {
      "cell_type": "code",
      "execution_count": 13,
      "id": "386fbc89",
      "metadata": {
        "id": "386fbc89",
        "colab": {
          "base_uri": "https://localhost:8080/"
        },
        "outputId": "f50f92cc-0abc-4ca4-bc31-a34448c2d2a3"
      },
      "outputs": [
        {
          "output_type": "stream",
          "name": "stdout",
          "text": [
            " Recommendations for new user:\n",
            "Popular Product: B0074BW614\n",
            "Popular Product: B00DR0PDNE\n",
            "Popular Product: B007WTAJTO\n",
            "Popular Product: B0019EHU8G\n",
            "Popular Product: B006GWO5WK\n"
          ]
        }
      ],
      "source": [
        "\n",
        "print(\" Recommendations for new user:\")\n",
        "popular_products = recommend_popular_products(df)\n",
        "for pid in popular_products:\n",
        "    print(f\"Popular Product: {pid}\")"
      ]
    },
    {
      "cell_type": "code",
      "source": [
        "user_input = df['user_id'].iloc[0]\n",
        "recommendations = recommend_products(user_input, model, df)\n",
        "\n",
        "for pid, rating in recommendations:\n",
        "    print(f\"Product: {pid}, Predicted Rating: {rating}\")\n"
      ],
      "metadata": {
        "colab": {
          "base_uri": "https://localhost:8080/"
        },
        "id": "29dXR7sNTkW5",
        "outputId": "7f655ac3-4a0c-4088-a6c1-7b441a83ac85"
      },
      "id": "29dXR7sNTkW5",
      "execution_count": 14,
      "outputs": [
        {
          "output_type": "stream",
          "name": "stdout",
          "text": [
            "Product: B00000J1V7, Predicted Rating: 5\n",
            "Product: B000053HC5, Predicted Rating: 5\n",
            "Product: B00006I5I2, Predicted Rating: 5\n",
            "Product: B0000CCSDS, Predicted Rating: 5\n",
            "Product: B0000DYV9H, Predicted Rating: 5\n"
          ]
        }
      ]
    },
    {
      "cell_type": "markdown",
      "source": [
        "##Dataset Filtering for Better Model Accuracy"
      ],
      "metadata": {
        "id": "WeVk-_77sMt8"
      },
      "id": "WeVk-_77sMt8"
    },
    {
      "cell_type": "code",
      "source": [
        "\n",
        "user_counts = df['user_id'].value_counts()\n",
        "active_users = user_counts[user_counts >= 50].index\n",
        "df_filtered = df[df['user_id'].isin(active_users)]\n",
        "\n",
        "product_counts = df_filtered['product_id'].value_counts()\n",
        "popular_products = product_counts[product_counts >= 50].index\n",
        "df_filtered = df_filtered[df_filtered['product_id'].isin(popular_products)]\n",
        "\n",
        "print(\"Filtered dataset shape:\", df_filtered.shape)\n"
      ],
      "metadata": {
        "colab": {
          "base_uri": "https://localhost:8080/"
        },
        "id": "V7vEouEHeaD_",
        "outputId": "e7144395-ef40-445d-bfe9-48d0c66629df"
      },
      "id": "V7vEouEHeaD_",
      "execution_count": 15,
      "outputs": [
        {
          "output_type": "stream",
          "name": "stdout",
          "text": [
            "Filtered dataset shape: (6234, 3)\n"
          ]
        }
      ]
    },
    {
      "cell_type": "markdown",
      "source": [
        "##Model Comparison: SVD vs KNN vs NMF vs Baseline"
      ],
      "metadata": {
        "id": "pvwEVStlsVsd"
      },
      "id": "pvwEVStlsVsd"
    },
    {
      "cell_type": "code",
      "source": [
        "from surprise import KNNBasic, NMF, BaselineOnly\n",
        "\n",
        "reader = Reader(rating_scale=(1, 5))\n",
        "data_filtered = Dataset.load_from_df(df_filtered[['user_id', 'product_id', 'rating']], reader)\n",
        "\n",
        "trainset, testset = train_test_split(data_filtered, test_size=0.2, random_state=42)\n",
        "\n",
        "models = {\n",
        "    \"SVD\": SVD(),\n",
        "    \"KNNBasic\": KNNBasic(),\n",
        "    \"NMF\": NMF(),\n",
        "    \"BaselineOnly\": BaselineOnly()\n",
        "}\n",
        "\n",
        "for name, algo in models.items():\n",
        "    print(f\"\\nTraining model: {name}\")\n",
        "    algo.fit(trainset)\n",
        "    predictions = algo.test(testset)\n",
        "    rmse = accuracy.rmse(predictions, verbose=False)\n",
        "    print(f\"{name} RMSE: {rmse:.4f}\")\n"
      ],
      "metadata": {
        "colab": {
          "base_uri": "https://localhost:8080/"
        },
        "id": "kJfS6gHMefyJ",
        "outputId": "1e41d689-56fa-48ba-ab3b-6b552529d98b"
      },
      "id": "kJfS6gHMefyJ",
      "execution_count": 19,
      "outputs": [
        {
          "output_type": "stream",
          "name": "stdout",
          "text": [
            "\n",
            "Training model: SVD\n",
            "SVD RMSE: 0.8864\n",
            "\n",
            "Training model: KNNBasic\n",
            "Computing the msd similarity matrix...\n",
            "Done computing similarity matrix.\n",
            "KNNBasic RMSE: 0.9263\n",
            "\n",
            "Training model: NMF\n",
            "NMF RMSE: 1.0393\n",
            "\n",
            "Training model: BaselineOnly\n",
            "Estimating biases using als...\n",
            "BaselineOnly RMSE: 0.8831\n"
          ]
        }
      ]
    },
    {
      "cell_type": "markdown",
      "source": [
        "##RMSE Bar Chart for Model Performance Comparison"
      ],
      "metadata": {
        "id": "lz9tKF2XsbdO"
      },
      "id": "lz9tKF2XsbdO"
    },
    {
      "cell_type": "code",
      "source": [
        "import matplotlib.pyplot as plt\n",
        "\n",
        "model_names = [\"BaselineOnly\", \"SVD\", \"KNNBasic\", \"NMF\"]\n",
        "rmse_scores = [0.8831, 0.8916, 0.9263, 1.0415]\n",
        "\n",
        "plt.figure(figsize=(8, 5))\n",
        "plt.bar(model_names, rmse_scores, color='skyblue')\n",
        "plt.title(\"RMSE Comparison of Recommendation Models\")\n",
        "plt.ylabel(\"RMSE\")\n",
        "plt.ylim(0.85, 1.1)\n",
        "for i, v in enumerate(rmse_scores):\n",
        "    plt.text(i, v + 0.005, f\"{v:.4f}\", ha='center')\n",
        "plt.show()\n"
      ],
      "metadata": {
        "colab": {
          "base_uri": "https://localhost:8080/",
          "height": 468
        },
        "id": "uKJ5sl-Ke7IY",
        "outputId": "6ef2fd5a-715e-4b6e-b903-4a963fd8f51a"
      },
      "id": "uKJ5sl-Ke7IY",
      "execution_count": 20,
      "outputs": [
        {
          "output_type": "display_data",
          "data": {
            "text/plain": [
              "<Figure size 800x500 with 1 Axes>"
            ],
            "image/png": "[encoded data removed]"
          },
          "metadata": {}
        }
      ]
    },
    {
      "cell_type": "markdown",
      "source": [
        "##Show User Rating History & Personalized Product Recommendations\n"
      ],
      "metadata": {
        "id": "81CO6BJ9sjcl"
      },
      "id": "81CO6BJ9sjcl"
    },
    {
      "cell_type": "code",
      "source": [
        "def show_user_history_and_recommendations(user_id, model, df, n=5):\n",
        "    print(f\"\\n User: {user_id}\")\n",
        "\n",
        "    # the user has already rated\n",
        "    user_history = df[df['user_id'] == user_id]\n",
        "\n",
        "    if user_history.empty:\n",
        "        print(\" New user — no ratings found.\")\n",
        "    else:\n",
        "        print(f\"\\n🧾 Rated Products by {user_id}:\")\n",
        "        print(user_history[['product_id', 'rating']].head(10))  # Show first 10\n",
        "\n",
        "    # Show recommendations\n",
        "    recommendations = recommend_products(user_id, model, df, n=n)\n",
        "\n",
        "    print(f\"\\n Top {n} Recommended Products (Not Yet Rated):\")\n",
        "    for pid, pred_rating in recommendations:\n",
        "        print(f\" Product ID: {pid} | Predicted Rating: {pred_rating}\")\n"
      ],
      "metadata": {
        "id": "PwzPaFdtgHHn"
      },
      "id": "PwzPaFdtgHHn",
      "execution_count": 21,
      "outputs": []
    },
    {
      "cell_type": "markdown",
      "source": [
        "##existing user prediction"
      ],
      "metadata": {
        "id": "GJF_z_9ysmpj"
      },
      "id": "GJF_z_9ysmpj"
    },
    {
      "cell_type": "code",
      "source": [
        "sample_user = df['user_id'].iloc[0]  # or any user ID that exists\n",
        "show_user_history_and_recommendations(sample_user, model, df, n=5)\n"
      ],
      "metadata": {
        "colab": {
          "base_uri": "https://localhost:8080/"
        },
        "id": "RvlHPclyh0Bq",
        "outputId": "2831124e-c682-4870-dd68-cca0a1a9fe85"
      },
      "id": "RvlHPclyh0Bq",
      "execution_count": 22,
      "outputs": [
        {
          "output_type": "stream",
          "name": "stdout",
          "text": [
            "\n",
            " User: AKM1MP6P0OYPR\n",
            "\n",
            "🧾 Rated Products by AKM1MP6P0OYPR:\n",
            "         product_id  rating\n",
            "0        0132793040     5.0\n",
            "5200191  B005UEB5TQ     5.0\n",
            "\n",
            " Top 5 Recommended Products (Not Yet Rated):\n",
            " Product ID: B00000J1V7 | Predicted Rating: 5\n",
            " Product ID: B000053HC5 | Predicted Rating: 5\n",
            " Product ID: B00006I5I2 | Predicted Rating: 5\n",
            " Product ID: B0000CCSDS | Predicted Rating: 5\n",
            " Product ID: B0000DYV9H | Predicted Rating: 5\n"
          ]
        }
      ]
    }
  ],
  "metadata": {
    "colab": {
      "provenance": []
    },
    "language_info": {
      "name": "python"
    },
    "kernelspec": {
      "name": "python3",
      "display_name": "Python 3"
    }
  },
  "nbformat": 4,
  "nbformat_minor": 5
}